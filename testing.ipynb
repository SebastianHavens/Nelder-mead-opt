{
 "cells": [
  {
   "cell_type": "code",
   "execution_count": 2,
   "metadata": {
    "collapsed": true,
    "pycharm": {
     "name": "#%%\n"
    }
   },
   "outputs": [],
   "source": [
    "import numpy as np\n",
    "import matscipy.calculators.eam.calculator\n",
    "import matplotlib.pyplot as plt\n",
    "import matplotlib\n",
    "import pydevd_pycharm\n",
    "#pydevd_pycharm.settrace('localhost', port=$SERVER_PORT, stdoutToServer=True, stderrToServer=True)\n"
   ]
  },
  {
   "cell_type": "markdown",
   "source": [],
   "metadata": {
    "collapsed": false,
    "pycharm": {
     "name": "#%% md\n"
    }
   }
  },
  {
   "cell_type": "code",
   "execution_count": 3,
   "outputs": [
    {
     "data": {
      "text/plain": "(100,)"
     },
     "execution_count": 3,
     "metadata": {},
     "output_type": "execute_result"
    }
   ],
   "source": [
    "a = np.zeros(100)\n",
    "np.shape(a)"
   ],
   "metadata": {
    "collapsed": false,
    "pycharm": {
     "name": "#%%\n"
    }
   }
  },
  {
   "cell_type": "code",
   "execution_count": 4,
   "outputs": [],
   "source": [
    "def gen_poten(param):\n",
    "    potential = matscipy.calculators.eam.io.read_eam('Cu01.eam.alloy', 'eam/alloy')\n",
    "\n",
    "    graph_1 = potential[2]\n",
    "    graph_2 = potential[3]\n",
    "    graph_3 = potential[4]\n",
    "\n",
    "\n",
    "\n",
    "    line_1 = np.arange(param[0],param[1], (abs(param[1] - param[0])) / np.size(graph_1))\n",
    "    line_2 = np.arange(param[2],param[3], (abs(param[3] - param[2])) / np.size(graph_2))\n",
    "    line_3 = np.arange(param[4],param[5], (abs(param[5] - param[4])) / np.size(graph_3))\n",
    "\n",
    "\n",
    "\n",
    "\n",
    "    print(np.size(graph_1))\n",
    "\n",
    "    new_graph_1 = (np.multiply(graph_1, line_1))#.ravel()\n",
    "    new_graph_2 = (np.multiply(graph_2, line_2))#.ravel()\n",
    "    new_graph_3 = (np.multiply(graph_3, line_3))#.ravel()\n",
    "\n",
    "\n",
    "    matscipy.calculators.eam.io.write_eam(potential[0], potential[1], new_graph_1, new_graph_2, new_graph_3, 'test.eam.alloy', 'eam/alloy')"
   ],
   "metadata": {
    "collapsed": false,
    "pycharm": {
     "name": "#%%\n"
    }
   }
  },
  {
   "cell_type": "code",
   "execution_count": 5,
   "outputs": [],
   "source": [
    "parameters = [1.5,2,3,3.5,4,4.5]\n"
   ],
   "metadata": {
    "collapsed": false,
    "pycharm": {
     "name": "#%%\n"
    }
   }
  },
  {
   "cell_type": "code",
   "execution_count": 6,
   "outputs": [
    {
     "name": "stdout",
     "output_type": "stream",
     "text": [
      "10000\n"
     ]
    }
   ],
   "source": [
    "gen_poten(parameters)"
   ],
   "metadata": {
    "collapsed": false,
    "pycharm": {
     "name": "#%%\n"
    }
   }
  },
  {
   "cell_type": "code",
   "execution_count": 7,
   "outputs": [
    {
     "name": "stdout",
     "output_type": "stream",
     "text": [
      "(4,)\n",
      "[1 2 3 4]\n",
      "3\n"
     ]
    }
   ],
   "source": [
    "b = np.arange(1, 5, 1)\n",
    "print(np.shape(b))\n",
    "print(b)\n",
    "print(b[2])"
   ],
   "metadata": {
    "collapsed": false,
    "pycharm": {
     "name": "#%%\n"
    }
   }
  },
  {
   "cell_type": "code",
   "execution_count": 8,
   "outputs": [
    {
     "data": {
      "text/plain": "<Figure size 432x288 with 1 Axes>",
      "image/png": "[encoded data removed]"
     },
     "metadata": {
      "needs_background": "light"
     },
     "output_type": "display_data"
    }
   ],
   "source": [
    "potential = matscipy.calculators.eam.io.read_eam('Cu01.eam.alloy', 'eam/alloy')\n",
    "\n",
    "graph_1 = potential[2]\n",
    "graph_2 = potential[3]\n",
    "graph_3 = potential[4]\n",
    "param = [1.5,2,3,3.5,4,4.5]\n",
    "\n",
    "line_1 = np.arange(param[0],param[1], (abs(param[1] - param[0])) / np.size(graph_1))\n",
    "line_2 = np.arange(param[2],param[3], (abs(param[3] - param[2])) / np.size(graph_2))\n",
    "line_3 = np.arange(param[4],param[5], (abs(param[5] - param[4])) / np.size(graph_3))\n",
    "\n",
    "new_graph_1 = (np.multiply(graph_1, line_1))\n",
    "new_graph_2 = (np.multiply(graph_2, line_2))\n",
    "new_graph_3 = (np.multiply(graph_3, line_3))\n",
    "\n",
    "xx = []\n",
    "for i in range(np.size(new_graph_1)):\n",
    "    xx.append(i)\n",
    "\n",
    "plt.plot(new_graph_1.ravel(), xx)\n",
    "plt.plot(graph_1.ravel(),xx)\n",
    "plt.show()"
   ],
   "metadata": {
    "collapsed": false,
    "pycharm": {
     "name": "#%%\n"
    }
   }
  },
  {
   "cell_type": "code",
   "execution_count": 7,
   "outputs": [],
   "source": [],
   "metadata": {
    "collapsed": false,
    "pycharm": {
     "name": "#%%\n"
    }
   }
  },
  {
   "cell_type": "code",
   "execution_count": 7,
   "outputs": [],
   "source": [],
   "metadata": {
    "collapsed": false,
    "pycharm": {
     "name": "#%%\n"
    }
   }
  },
  {
   "cell_type": "code",
   "execution_count": 7,
   "outputs": [],
   "source": [],
   "metadata": {
    "collapsed": false,
    "pycharm": {
     "name": "#%%\n"
    }
   }
  },
  {
   "cell_type": "code",
   "execution_count": 7,
   "outputs": [],
   "source": [],
   "metadata": {
    "collapsed": false,
    "pycharm": {
     "name": "#%%\n"
    }
   }
  }
 ],
 "metadata": {
  "kernelspec": {
   "display_name": "Python 3",
   "language": "python",
   "name": "python3"
  },
  "language_info": {
   "codemirror_mode": {
    "name": "ipython",
    "version": 2
   },
   "file_extension": ".py",
   "mimetype": "text/x-python",
   "name": "python",
   "nbconvert_exporter": "python",
   "pygments_lexer": "ipython2",
   "version": "2.7.6"
  }
 },
 "nbformat": 4,
 "nbformat_minor": 0
}